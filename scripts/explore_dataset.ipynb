{
 "cells": [
  {
   "cell_type": "code",
   "execution_count": 9,
   "metadata": {},
   "outputs": [],
   "source": [
    "import os\n",
    "import pandas as pd\n",
    "import scanpy as sc\n",
    "import os\n",
    "import numpy as np\n",
    "import anndata as ad\n",
    "from anndata import AnnData\n",
    "from anndata import read_h5ad\n",
    "import gc  "
   ]
  },
  {
   "cell_type": "code",
   "execution_count": 8,
   "metadata": {},
   "outputs": [
    {
     "name": "stdout",
     "output_type": "stream",
     "text": [
      "Total number of splits: 5\n",
      "Training indices shape: 80\n",
      "Validation indices shape: 20\n"
     ]
    },
    {
     "data": {
      "text/plain": [
       "([11,\n",
       "  80,\n",
       "  18,\n",
       "  23,\n",
       "  76,\n",
       "  46,\n",
       "  87,\n",
       "  14,\n",
       "  70,\n",
       "  91,\n",
       "  45,\n",
       "  69,\n",
       "  1,\n",
       "  79,\n",
       "  13,\n",
       "  42,\n",
       "  71,\n",
       "  74,\n",
       "  51,\n",
       "  49,\n",
       "  90,\n",
       "  65,\n",
       "  57,\n",
       "  92,\n",
       "  77,\n",
       "  75,\n",
       "  54,\n",
       "  39,\n",
       "  29,\n",
       "  95,\n",
       "  5,\n",
       "  67,\n",
       "  52,\n",
       "  62,\n",
       "  4,\n",
       "  97,\n",
       "  98,\n",
       "  40,\n",
       "  78,\n",
       "  10,\n",
       "  20,\n",
       "  93,\n",
       "  21,\n",
       "  86,\n",
       "  64,\n",
       "  59,\n",
       "  68,\n",
       "  16,\n",
       "  85,\n",
       "  35,\n",
       "  19,\n",
       "  6,\n",
       "  28,\n",
       "  99,\n",
       "  82,\n",
       "  26,\n",
       "  56,\n",
       "  12,\n",
       "  25,\n",
       "  84,\n",
       "  22,\n",
       "  88,\n",
       "  33,\n",
       "  17,\n",
       "  89,\n",
       "  58,\n",
       "  53,\n",
       "  63,\n",
       "  96,\n",
       "  9,\n",
       "  3,\n",
       "  66,\n",
       "  38,\n",
       "  8,\n",
       "  31,\n",
       "  60,\n",
       "  36,\n",
       "  81,\n",
       "  30,\n",
       "  83],\n",
       " [2, 61, 15, 43, 7, 37, 32, 47, 55, 44, 0, 27, 94, 72, 41, 24, 48, 34, 50, 73])"
      ]
     },
     "execution_count": 8,
     "metadata": {},
     "output_type": "execute_result"
    }
   ],
   "source": [
    "\n",
    "from sklearn.model_selection import train_test_split\n",
    "\n",
    "# Number of cells --> it will be our indices\n",
    "n_cells = 100\n",
    "# Number of folds \n",
    "n_folds = 5\n",
    "\n",
    "# Initialize a list to store the indices for different splits\n",
    "splits_indices = []\n",
    "\n",
    "# Set the number of splits you want, here we'll use a single train/test split\n",
    "for _ in range(n_folds):\n",
    "    # Perform train/test split\n",
    "    train_indices, val_indices = train_test_split(range(n_cells), test_size=0.2, random_state=None)\n",
    "    \n",
    "    # Store the indices for each split in the list\n",
    "    splits_indices.append((train_indices, val_indices))\n",
    "\n",
    "print(f\"Total number of splits: {len(splits_indices)}\")\n",
    "train_indices, val_indices = splits_indices[0]\n",
    "print(f\"Training indices shape: {len(train_indices)}\")\n",
    "print(f\"Validation indices shape: {len(val_indices)}\")\n",
    "splits_indices[0]"
   ]
  },
  {
   "cell_type": "code",
   "execution_count": null,
   "metadata": {},
   "outputs": [],
   "source": []
  },
  {
   "cell_type": "code",
   "execution_count": null,
   "metadata": {},
   "outputs": [
    {
     "ename": "ImportError",
     "evalue": "attempted relative import with no known parent package",
     "output_type": "error",
     "traceback": [
      "\u001b[0;31m---------------------------------------------------------------------------\u001b[0m",
      "\u001b[0;31mImportError\u001b[0m                               Traceback (most recent call last)",
      "Cell \u001b[0;32mIn[7], line 1\u001b[0m\n\u001b[0;32m----> 1\u001b[0m \u001b[38;5;28;01mfrom\u001b[39;00m \u001b[38;5;21;01m.\u001b[39;00m\u001b[38;5;21;01mmodel\u001b[39;00m\u001b[38;5;21;01m.\u001b[39;00m\u001b[38;5;21;01mVAE\u001b[39;00m \u001b[38;5;28;01mimport\u001b[39;00m \u001b[38;5;241m*\u001b[39m\n",
      "\u001b[0;31mImportError\u001b[0m: attempted relative import with no known parent package"
     ]
    }
   ],
   "source": [
    "from .model.VAE import *\n"
   ]
  },
  {
   "cell_type": "code",
   "execution_count": 28,
   "metadata": {},
   "outputs": [
    {
     "data": {
      "text/plain": [
       "AnnData object with n_obs × n_vars = 2126 × 15657\n",
       "    obs: 'cellular_classification', 'sex_ontology_term_id', 'tissue_ontology_term_id', 'assay_ontology_term_id', 'disease_ontology_term_id', 'cell_type_ontology_term_id', 'self_reported_ethnicity_ontology_term_id', 'development_stage_ontology_term_id', 'organism_ontology_term_id', 'is_primary_data', 'donor_id', 'suspension_type', 'tissue_type', 'cell_type', 'assay', 'disease', 'organism', 'sex', 'tissue', 'self_reported_ethnicity', 'development_stage', 'observation_joinid'\n",
       "    var: 'feature_is_filtered', 'feature_name', 'feature_reference', 'feature_biotype', 'feature_length'\n",
       "    uns: 'citation', 'schema_reference', 'schema_version', 'title'\n",
       "    obsm: 'X_tsne'"
      ]
     },
     "execution_count": 28,
     "metadata": {},
     "output_type": "execute_result"
    }
   ],
   "source": [
    "adata = sc.read(\"/work/upcourtine/clock-classifier/gabriele-results/census_results/datasets/Muraro_2016_1.h5ad\")\n",
    "adata"
   ]
  },
  {
   "cell_type": "code",
   "execution_count": 17,
   "metadata": {},
   "outputs": [
    {
     "data": {
      "text/html": [
       "<div>\n",
       "<style scoped>\n",
       "    .dataframe tbody tr th:only-of-type {\n",
       "        vertical-align: middle;\n",
       "    }\n",
       "\n",
       "    .dataframe tbody tr th {\n",
       "        vertical-align: top;\n",
       "    }\n",
       "\n",
       "    .dataframe thead th {\n",
       "        text-align: right;\n",
       "    }\n",
       "</style>\n",
       "<table border=\"1\" class=\"dataframe\">\n",
       "  <thead>\n",
       "    <tr style=\"text-align: right;\">\n",
       "      <th></th>\n",
       "      <th>cellular_classification</th>\n",
       "      <th>sex_ontology_term_id</th>\n",
       "      <th>tissue_ontology_term_id</th>\n",
       "      <th>assay_ontology_term_id</th>\n",
       "      <th>disease_ontology_term_id</th>\n",
       "      <th>cell_type_ontology_term_id</th>\n",
       "      <th>self_reported_ethnicity_ontology_term_id</th>\n",
       "      <th>development_stage_ontology_term_id</th>\n",
       "      <th>organism_ontology_term_id</th>\n",
       "      <th>is_primary_data</th>\n",
       "      <th>...</th>\n",
       "      <th>tissue_type</th>\n",
       "      <th>cell_type</th>\n",
       "      <th>assay</th>\n",
       "      <th>disease</th>\n",
       "      <th>organism</th>\n",
       "      <th>sex</th>\n",
       "      <th>tissue</th>\n",
       "      <th>self_reported_ethnicity</th>\n",
       "      <th>development_stage</th>\n",
       "      <th>observation_joinid</th>\n",
       "    </tr>\n",
       "  </thead>\n",
       "  <tbody>\n",
       "    <tr>\n",
       "      <th>D28.1_1</th>\n",
       "      <td>alpha</td>\n",
       "      <td>PATO:0000384</td>\n",
       "      <td>UBERON:0001264</td>\n",
       "      <td>EFO:0010010</td>\n",
       "      <td>PATO:0000461</td>\n",
       "      <td>CL:0000171</td>\n",
       "      <td>unknown</td>\n",
       "      <td>HsapDv:0000148</td>\n",
       "      <td>NCBITaxon:9606</td>\n",
       "      <td>True</td>\n",
       "      <td>...</td>\n",
       "      <td>tissue</td>\n",
       "      <td>pancreatic A cell</td>\n",
       "      <td>CEL-seq2</td>\n",
       "      <td>normal</td>\n",
       "      <td>Homo sapiens</td>\n",
       "      <td>male</td>\n",
       "      <td>pancreas</td>\n",
       "      <td>unknown</td>\n",
       "      <td>54-year-old human stage</td>\n",
       "      <td>(n|47dBj#~</td>\n",
       "    </tr>\n",
       "    <tr>\n",
       "      <th>D28.1_2</th>\n",
       "      <td>endothelial</td>\n",
       "      <td>PATO:0000384</td>\n",
       "      <td>UBERON:0001264</td>\n",
       "      <td>EFO:0010010</td>\n",
       "      <td>PATO:0000461</td>\n",
       "      <td>CL:0000115</td>\n",
       "      <td>unknown</td>\n",
       "      <td>HsapDv:0000148</td>\n",
       "      <td>NCBITaxon:9606</td>\n",
       "      <td>True</td>\n",
       "      <td>...</td>\n",
       "      <td>tissue</td>\n",
       "      <td>endothelial cell</td>\n",
       "      <td>CEL-seq2</td>\n",
       "      <td>normal</td>\n",
       "      <td>Homo sapiens</td>\n",
       "      <td>male</td>\n",
       "      <td>pancreas</td>\n",
       "      <td>unknown</td>\n",
       "      <td>54-year-old human stage</td>\n",
       "      <td>baOm2&amp;VkVw</td>\n",
       "    </tr>\n",
       "    <tr>\n",
       "      <th>D28.1_3</th>\n",
       "      <td>delta</td>\n",
       "      <td>PATO:0000384</td>\n",
       "      <td>UBERON:0001264</td>\n",
       "      <td>EFO:0010010</td>\n",
       "      <td>PATO:0000461</td>\n",
       "      <td>CL:0000173</td>\n",
       "      <td>unknown</td>\n",
       "      <td>HsapDv:0000148</td>\n",
       "      <td>NCBITaxon:9606</td>\n",
       "      <td>True</td>\n",
       "      <td>...</td>\n",
       "      <td>tissue</td>\n",
       "      <td>pancreatic D cell</td>\n",
       "      <td>CEL-seq2</td>\n",
       "      <td>normal</td>\n",
       "      <td>Homo sapiens</td>\n",
       "      <td>male</td>\n",
       "      <td>pancreas</td>\n",
       "      <td>unknown</td>\n",
       "      <td>54-year-old human stage</td>\n",
       "      <td>;p4mE0flT0</td>\n",
       "    </tr>\n",
       "    <tr>\n",
       "      <th>D28.1_4</th>\n",
       "      <td>beta</td>\n",
       "      <td>PATO:0000384</td>\n",
       "      <td>UBERON:0001264</td>\n",
       "      <td>EFO:0010010</td>\n",
       "      <td>PATO:0000461</td>\n",
       "      <td>CL:0000169</td>\n",
       "      <td>unknown</td>\n",
       "      <td>HsapDv:0000148</td>\n",
       "      <td>NCBITaxon:9606</td>\n",
       "      <td>True</td>\n",
       "      <td>...</td>\n",
       "      <td>tissue</td>\n",
       "      <td>type B pancreatic cell</td>\n",
       "      <td>CEL-seq2</td>\n",
       "      <td>normal</td>\n",
       "      <td>Homo sapiens</td>\n",
       "      <td>male</td>\n",
       "      <td>pancreas</td>\n",
       "      <td>unknown</td>\n",
       "      <td>54-year-old human stage</td>\n",
       "      <td>mW_Q_!enp9</td>\n",
       "    </tr>\n",
       "  </tbody>\n",
       "</table>\n",
       "<p>4 rows × 22 columns</p>\n",
       "</div>"
      ],
      "text/plain": [
       "        cellular_classification sex_ontology_term_id tissue_ontology_term_id  \\\n",
       "D28.1_1                   alpha         PATO:0000384          UBERON:0001264   \n",
       "D28.1_2             endothelial         PATO:0000384          UBERON:0001264   \n",
       "D28.1_3                   delta         PATO:0000384          UBERON:0001264   \n",
       "D28.1_4                    beta         PATO:0000384          UBERON:0001264   \n",
       "\n",
       "        assay_ontology_term_id disease_ontology_term_id  \\\n",
       "D28.1_1            EFO:0010010             PATO:0000461   \n",
       "D28.1_2            EFO:0010010             PATO:0000461   \n",
       "D28.1_3            EFO:0010010             PATO:0000461   \n",
       "D28.1_4            EFO:0010010             PATO:0000461   \n",
       "\n",
       "        cell_type_ontology_term_id self_reported_ethnicity_ontology_term_id  \\\n",
       "D28.1_1                 CL:0000171                                  unknown   \n",
       "D28.1_2                 CL:0000115                                  unknown   \n",
       "D28.1_3                 CL:0000173                                  unknown   \n",
       "D28.1_4                 CL:0000169                                  unknown   \n",
       "\n",
       "        development_stage_ontology_term_id organism_ontology_term_id  \\\n",
       "D28.1_1                     HsapDv:0000148            NCBITaxon:9606   \n",
       "D28.1_2                     HsapDv:0000148            NCBITaxon:9606   \n",
       "D28.1_3                     HsapDv:0000148            NCBITaxon:9606   \n",
       "D28.1_4                     HsapDv:0000148            NCBITaxon:9606   \n",
       "\n",
       "         is_primary_data  ... tissue_type               cell_type     assay  \\\n",
       "D28.1_1             True  ...      tissue       pancreatic A cell  CEL-seq2   \n",
       "D28.1_2             True  ...      tissue        endothelial cell  CEL-seq2   \n",
       "D28.1_3             True  ...      tissue       pancreatic D cell  CEL-seq2   \n",
       "D28.1_4             True  ...      tissue  type B pancreatic cell  CEL-seq2   \n",
       "\n",
       "        disease      organism   sex    tissue self_reported_ethnicity  \\\n",
       "D28.1_1  normal  Homo sapiens  male  pancreas                 unknown   \n",
       "D28.1_2  normal  Homo sapiens  male  pancreas                 unknown   \n",
       "D28.1_3  normal  Homo sapiens  male  pancreas                 unknown   \n",
       "D28.1_4  normal  Homo sapiens  male  pancreas                 unknown   \n",
       "\n",
       "               development_stage observation_joinid  \n",
       "D28.1_1  54-year-old human stage         (n|47dBj#~  \n",
       "D28.1_2  54-year-old human stage         baOm2&VkVw  \n",
       "D28.1_3  54-year-old human stage         ;p4mE0flT0  \n",
       "D28.1_4  54-year-old human stage         mW_Q_!enp9  \n",
       "\n",
       "[4 rows x 22 columns]"
      ]
     },
     "execution_count": 17,
     "metadata": {},
     "output_type": "execute_result"
    }
   ],
   "source": [
    "adata.obs.head(4)"
   ]
  },
  {
   "cell_type": "code",
   "execution_count": 27,
   "metadata": {},
   "outputs": [
    {
     "data": {
      "text/plain": [
       "['endothelial', 'beta']"
      ]
     },
     "execution_count": 27,
     "metadata": {},
     "output_type": "execute_result"
    }
   ],
   "source": [
    "a = adata[[1,3],].obs\n",
    "a[\"cellular_classification\"].values.tolist()"
   ]
  },
  {
   "cell_type": "code",
   "execution_count": null,
   "metadata": {},
   "outputs": [
    {
     "data": {
      "text/plain": [
       "array([[0.1, 0. , 1.1, ..., 0. , 0. , 0. ],\n",
       "       [0.1, 0. , 0.1, ..., 0. , 0. , 0. ]], dtype=float32)"
      ]
     },
     "execution_count": 36,
     "metadata": {},
     "output_type": "execute_result"
    }
   ],
   "source": [
    "a = adata[[1,3],]\n",
    "a.X.toarray()"
   ]
  }
 ],
 "metadata": {
  "kernelspec": {
   "display_name": "census_env",
   "language": "python",
   "name": "python3"
  },
  "language_info": {
   "codemirror_mode": {
    "name": "ipython",
    "version": 3
   },
   "file_extension": ".py",
   "mimetype": "text/x-python",
   "name": "python",
   "nbconvert_exporter": "python",
   "pygments_lexer": "ipython3",
   "version": "3.10.15"
  }
 },
 "nbformat": 4,
 "nbformat_minor": 2
}
