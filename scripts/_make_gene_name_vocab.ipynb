{
 "cells": [
  {
   "cell_type": "code",
   "execution_count": 1,
   "metadata": {},
   "outputs": [],
   "source": [
    "import os\n",
    "import pandas as pd\n",
    "import scanpy as sc\n",
    "import os\n",
    "import numpy as np\n",
    "import anndata as ad\n",
    "from anndata import AnnData\n",
    "from anndata import read_h5ad\n",
    "import gc  \n",
    "\n",
    "DATASET_DIR = \"/work/upcourtine/clock-classifier/gabriele-results/census_results/datasets\""
   ]
  },
  {
   "cell_type": "markdown",
   "metadata": {},
   "source": [
    "# Make GeneMapping File\n",
    "\n",
    "Raw data from [here](https://www.gencodegenes.org/human/).\n",
    "\n",
    "Unzip the file `gunzip gencode.v47.chr_patch_hapl_scaff.annotation.gtf.gz`."
   ]
  },
  {
   "cell_type": "code",
   "execution_count": null,
   "metadata": {},
   "outputs": [],
   "source": [
    "import pandas as pd\n",
    "import re\n",
    "\n",
    "# Define chunk size\n",
    "chunk_size = 100000\n",
    "\n",
    "# Initialize an empty list to store chunks\n",
    "chunks = []\n",
    "\n",
    "# Read the GTF file in chunks\n",
    "for chunk in pd.read_csv(\"/home/dalai/git/clock-classifier/Gabriele/assets/gencode.v47.chr_patch_hapl_scaff.annotation.gtf\", \n",
    "                         sep=\"\\t\", \n",
    "                         comment=\"#\", \n",
    "                         header=None, \n",
    "                         names=[\"seqname\", \"source\", \"feature\", \"start\", \"end\", \"score\", \"strand\", \"frame\", \"attributes\"], \n",
    "                         chunksize=chunk_size):\n",
    "    \n",
    "    # Extract gene_id, transcript_id, gene_name, and gene_type from the 'attributes' column using regular expressions\n",
    "    chunk['gene_id'] = chunk['attributes'].apply(lambda x: re.search(r'gene_id \"([^\"]+)\"', x).group(1) if re.search(r'gene_id \"([^\"]+)\"', x) else None)\n",
    "    chunk['transcript_id'] = chunk['attributes'].apply(lambda x: re.search(r'transcript_id \"([^\"]+)\"', x).group(1) if re.search(r'transcript_id \"([^\"]+)\"', x) else None)\n",
    "    chunk['gene_name'] = chunk['attributes'].apply(lambda x: re.search(r'gene_name \"([^\"]+)\"', x).group(1) if re.search(r'gene_name \"([^\"]+)\"', x) else None)\n",
    "    chunk['gene_type'] = chunk['attributes'].apply(lambda x: re.search(r'gene_type \"([^\"]+)\"', x).group(1) if re.search(r'gene_type \"([^\"]+)\"', x) else None)\n",
    "\n",
    "    # Add the chunk to the list\n",
    "    chunks.append(chunk)\n",
    "\n",
    "# Combine the chunks into a single DataFrame\n",
    "df = pd.concat(chunks, ignore_index=True)\n",
    "\n",
    "# Display the first few rows with gene_id, transcript_id, gene_name, and gene_type\n",
    "display(df[['seqname', 'feature', 'start', 'end', 'gene_id', 'transcript_id', 'gene_name', 'gene_type']].head())\n"
   ]
  },
  {
   "cell_type": "code",
   "execution_count": null,
   "metadata": {},
   "outputs": [],
   "source": [
    "print(df.feature.unique())\n",
    "print(df.gene_type.unique())"
   ]
  },
  {
   "cell_type": "code",
   "execution_count": null,
   "metadata": {},
   "outputs": [],
   "source": [
    "# Filter\n",
    "\n",
    "print(df.shape)\n",
    "print(df[df.feature == \"gene\"].shape)\n",
    "\n",
    "# Take only elements that are genes\n",
    "print(df.feature.unique())\n",
    "df = df[df.feature == \"gene\"]\n",
    "\n",
    "# Maybe filter more based on \"gene_type\" ??\n",
    "# TODO\n",
    "\n",
    "df.head(4)"
   ]
  },
  {
   "cell_type": "code",
   "execution_count": null,
   "metadata": {},
   "outputs": [],
   "source": [
    "# Take only mapping colums\n",
    "df = df[[\"gene_id\", \"gene_name\"]]\n",
    "df.head(5)"
   ]
  },
  {
   "cell_type": "code",
   "execution_count": null,
   "metadata": {},
   "outputs": [],
   "source": [
    "# Remove \"version\" from ensamble id\n",
    "\n",
    "print(df['gene_id'].str.split('.').str[0].size) #beforee\n",
    "print(df['gene_id'].str.split('.').str[0].unique().size) #see if thwere are some duplicates after removing version\n",
    "\n",
    "df['gene_id'] = df['gene_id'].str.split('.').str[0]\n"
   ]
  },
  {
   "cell_type": "code",
   "execution_count": null,
   "metadata": {},
   "outputs": [],
   "source": [
    "# Save\n",
    "save_mapping_df_path = os.path.join(\"/home/dalai/git/clock-classifier/Gabriele/assets\", \"mapping_genes_census.csv\")\n",
    "df.to_csv(save_mapping_df_path, index=False)\n"
   ]
  },
  {
   "cell_type": "code",
   "execution_count": null,
   "metadata": {},
   "outputs": [],
   "source": [
    "# little chck\n",
    "df = pd.read_csv(save_mapping_df_path, index_col = False)\n",
    "df"
   ]
  }
 ],
 "metadata": {
  "kernelspec": {
   "display_name": "census_env",
   "language": "python",
   "name": "python3"
  },
  "language_info": {
   "codemirror_mode": {
    "name": "ipython",
    "version": 3
   },
   "file_extension": ".py",
   "mimetype": "text/x-python",
   "name": "python",
   "nbconvert_exporter": "python",
   "pygments_lexer": "ipython3",
   "version": "3.10.15"
  }
 },
 "nbformat": 4,
 "nbformat_minor": 2
}
